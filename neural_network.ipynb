{
 "cells": [
  {
   "cell_type": "code",
   "execution_count": 4,
   "metadata": {
    "collapsed": false
   },
   "outputs": [],
   "source": [
    "import numpy as np\n",
    "import math\n",
    "from datascience import *\n",
    "import matplotlib\n",
    "matplotlib.use('Agg', warn=False)\n",
    "%matplotlib inline\n",
    "import matplotlib.pyplot as plt\n",
    "plt.style.use('fivethirtyeight')\n",
    "import warnings\n",
    "warnings.simplefilter(action=\"ignore\", category=FutureWarning)\n",
    "\n",
    "import tensorflow as tf\n",
    "from sklearn.decomposition import PCA"
   ]
  },
  {
   "cell_type": "code",
   "execution_count": 5,
   "metadata": {
    "collapsed": false
   },
   "outputs": [
    {
     "name": "stdout",
     "output_type": "stream",
     "text": [
      "Number of Words: 4817\n",
      "Number of Songs: 1721\n",
      "Training Size: 1720\n",
      "Testing Size: 1\n"
     ]
    }
   ],
   "source": [
    "# Get lyrics\n",
    "lyrics = Table.read_table('lyrics.csv').sample(with_replacement=False)\n",
    "holdout = Table.read_table('holdout.csv').drop('Id')\n",
    "\n",
    "words = lyrics.drop(np.arange(3)).labels\n",
    "titles = lyrics.column('Title')\n",
    "\n",
    "num_words = len(words)\n",
    "num_songs = len(titles)\n",
    "\n",
    "num_valid = 1\n",
    "test_lyrics = lyrics.take(np.arange(0, num_valid))\n",
    "train_lyrics = lyrics.take(np.arange(num_valid, num_songs))\n",
    "\n",
    "print(\"Number of Words: %d\" % (num_words))\n",
    "print(\"Number of Songs: %d\" % (num_songs))\n",
    "print(\"Training Size: %d\" % (train_lyrics.num_rows))\n",
    "print(\"Testing Size: %d\" % (test_lyrics.num_rows))\n",
    "\n",
    "# Retrieves row that corresponds to title\n",
    "title_index = lyrics.index_by('Title')\n",
    "def row_for_title(title):\n",
    "    \"\"\"Return the row for a title, similar to the following expression (but faster)\n",
    "    \n",
    "    lyrics.where('Title', title).row(0)\n",
    "    \"\"\"\n",
    "    return title_index.get(title)[0]"
   ]
  },
  {
   "cell_type": "code",
   "execution_count": 6,
   "metadata": {
    "collapsed": true
   },
   "outputs": [],
   "source": [
    "# Get document frequency\n",
    "def document_frequency(word):\n",
    "    return np.count_nonzero(lyrics.column(word) > 0) + np.count_nonzero(holdout.column(word) > 0)\n",
    "\n",
    "# Get document frequencies\n",
    "def document_frequencies():\n",
    "    return Table().with_column('Word', words).apply(document_frequency, 'Word')\n",
    "\n",
    "# Get inverse document frequencies\n",
    "def generate_idf():\n",
    "    frequencies = document_frequencies()\n",
    "    return np.log(num_songs / (frequencies + 1))\n",
    "\n",
    "# Get tfidf table\n",
    "def tfidf(tf):\n",
    "    return tf * idf\n",
    "\n",
    "\n",
    "### Vector of document frequencies for words\n",
    "idf = generate_idf()"
   ]
  },
  {
   "cell_type": "code",
   "execution_count": 7,
   "metadata": {
    "collapsed": false
   },
   "outputs": [
    {
     "name": "stdout",
     "output_type": "stream",
     "text": [
      "(1720, 4817)\n",
      "(1, 4817)\n",
      "(100, 4817)\n",
      "(1721, 4817)\n"
     ]
    }
   ],
   "source": [
    "train_data = np.array([tfidf(list(r)) for r in train_lyrics.drop(np.arange(3)).rows])\n",
    "test_data = np.array([tfidf(list(r)) for r in test_lyrics.drop(np.arange(3)).rows])\n",
    "holdout_data = np.array([tfidf(list(r)) for r in holdout.rows])\n",
    "full_data = np.concatenate((train_data, test_data), axis=0)\n",
    "\n",
    "print(train_data.shape)\n",
    "print(test_data.shape)\n",
    "print(holdout_data.shape)\n",
    "print(full_data.shape)"
   ]
  },
  {
   "cell_type": "code",
   "execution_count": 8,
   "metadata": {
    "collapsed": false
   },
   "outputs": [
    {
     "name": "stdout",
     "output_type": "stream",
     "text": [
      "(1720, 600)\n",
      "(100, 600)\n",
      "(1, 600)\n"
     ]
    }
   ],
   "source": [
    "n_components = 600\n",
    "pca = PCA(n_components, whiten=True)\n",
    "train_pca_data = pca.fit_transform(train_data)\n",
    "holdout_pca_data = pca.transform(holdout_data)\n",
    "test_pca_data = pca.transform(test_data)\n",
    "print(train_pca_data.shape)\n",
    "print(holdout_pca_data.shape)\n",
    "print(test_pca_data.shape)"
   ]
  },
  {
   "cell_type": "code",
   "execution_count": 9,
   "metadata": {
    "collapsed": true
   },
   "outputs": [],
   "source": [
    "def genreToIDVec(vec):\n",
    "    return [[1, 0] if e == 'Hip-hop' else [0, 1] for e in vec]\n",
    "\n",
    "def iDtoGenre(id):\n",
    "    return 'Hip-hop' if id == 0 else 'Country'"
   ]
  },
  {
   "cell_type": "code",
   "execution_count": 10,
   "metadata": {
    "collapsed": true
   },
   "outputs": [],
   "source": [
    "train_classes = genreToIDVec(train_lyrics.column('Genre'))\n",
    "test_classes = genreToIDVec(test_lyrics.column('Genre'))"
   ]
  },
  {
   "cell_type": "markdown",
   "metadata": {},
   "source": [
    "## Single Layer"
   ]
  },
  {
   "cell_type": "code",
   "execution_count": 458,
   "metadata": {
    "collapsed": false
   },
   "outputs": [],
   "source": [
    "# Parameters\n",
    "learning_rate = 0.01\n",
    "training_epochs = 25\n",
    "batch_size = 100\n",
    "display_step = 1\n",
    "\n",
    "# tf Graph Input\n",
    "x = tf.placeholder(tf.float32, [None, n_components])\n",
    "y = tf.placeholder(tf.float32, [None, 2])\n",
    "\n",
    "# Set model weights\n",
    "W = tf.Variable(tf.zeros([n_components, 2]))\n",
    "b = tf.Variable(tf.zeros([2]))\n",
    "\n",
    "# Construct model\n",
    "pred = tf.nn.softmax(tf.matmul(x, W) + b) # Softmax\n",
    "\n",
    "# Minimize error using cross entropy\n",
    "cost = tf.reduce_mean(-tf.reduce_sum(y*tf.log(pred), reduction_indices=1))\n",
    "# Gradient Descent\n",
    "optimizer = tf.train.GradientDescentOptimizer(learning_rate).minimize(cost)\n",
    "\n",
    "# Initializing the variables\n",
    "init = tf.global_variables_initializer()"
   ]
  },
  {
   "cell_type": "code",
   "execution_count": null,
   "metadata": {
    "collapsed": false,
    "scrolled": true
   },
   "outputs": [],
   "source": [
    "# Launch the graph\n",
    "with tf.Session() as sess:\n",
    "    sess.run(init)\n",
    "\n",
    "    # Training cycle\n",
    "    for epoch in range(training_epochs):\n",
    "        avg_cost = 0.\n",
    "        total_batch = int(len(train_pca_data) / batch_size)\n",
    "        # Loop over all batches\n",
    "        for i in range(total_batch):\n",
    "            batch_xs = train_pca_data[i * batch_size : min(len(train_pca_data), (i + 1) * batch_size)]\n",
    "            batch_ys = train_classes[i * batch_size : min(len(train_pca_data), (i + 1) * batch_size)]\n",
    "            # Fit training using batch data\n",
    "            _, c = sess.run([optimizer, cost], feed_dict={x: batch_xs,\n",
    "                                                          y: batch_ys})\n",
    "            # Compute average loss\n",
    "            avg_cost += c / total_batch\n",
    "        # Display logs per epoch step\n",
    "        if (epoch+1) % display_step == 0:\n",
    "            print(\"Epoch:\", '%04d' % (epoch+1), \"cost=\", \"{:.9f}\".format(avg_cost))\n",
    "\n",
    "    print(\"Optimization Finished!\")\n",
    "\n",
    "    # Test model\n",
    "    correct_prediction = tf.equal(tf.argmax(pred, 1), tf.argmax(y, 1))\n",
    "    accuracy = tf.reduce_mean(tf.cast(correct_prediction, tf.float32))\n",
    "    test_accuracy = accuracy.eval({x: test_pca_data, y: test_classes})\n",
    "    print(\"Accuracy:\", test_accuracy)\n",
    "    \n",
    "    holdout_predictions = tf.argmax(sess.run(pred, feed_dict={x: holdout_pca_data}), 1).eval()\n",
    "    holdout_predictions = np.array([iDtoGenre(e) for e in holdout_predictions])\n",
    "    print(holdout_predictions)\n",
    "    \n",
    "    country = np.count_nonzero(holdout_predictions == 'Country') / len(holdout_predictions)\n",
    "    print(\"Country Proportion: %f\" % country)"
   ]
  },
  {
   "cell_type": "markdown",
   "metadata": {},
   "source": [
    "# Multi Layer Neural Network (Fully Connected, Dropout, Softmax)"
   ]
  },
  {
   "cell_type": "code",
   "execution_count": 237,
   "metadata": {
    "collapsed": true
   },
   "outputs": [],
   "source": [
    "# Parameters\n",
    "learning_rate = 0.0001\n",
    "training_epochs = 30\n",
    "\n",
    "batch_size = 100\n",
    "display_step = 10\n",
    "\n",
    "# Network Parameters\n",
    "n_input = n_components\n",
    "n_hidden1 = 500\n",
    "n_hidden2 = 1000\n",
    "n_classes = 2\n",
    "dropout = 0.5\n",
    "\n",
    "# tf Graph Input\n",
    "x = tf.placeholder(tf.float32, [None, n_input])\n",
    "y = tf.placeholder(tf.float32, [None, n_classes])\n",
    "keep_prob = tf.placeholder(tf.float32)"
   ]
  },
  {
   "cell_type": "code",
   "execution_count": 238,
   "metadata": {
    "collapsed": true
   },
   "outputs": [],
   "source": [
    "def neural_network(x, weights, biases, dropout):\n",
    "    fc1 = tf.matmul(x, weights['h1']) + biases['b1']\n",
    "    fc1 = tf.nn.sigmoid(fc1)\n",
    "    fc1 = tf.nn.dropout(fc1, dropout)\n",
    "    \n",
    "    fc2 = tf.matmul(fc1, weights['h2']) + biases['b2']\n",
    "    fc2 = tf.nn.sigmoid(fc2)\n",
    "    fc2 = tf.nn.dropout(fc2, dropout)\n",
    "    \n",
    "    out = tf.nn.softmax(tf.matmul(fc2, weights['out']) + biases['out'])\n",
    "    return out"
   ]
  },
  {
   "cell_type": "code",
   "execution_count": 239,
   "metadata": {
    "collapsed": false
   },
   "outputs": [],
   "source": [
    "weights = {\n",
    "    'h1': tf.Variable(tf.random_normal([n_input, n_hidden1], stddev=(1/n_input))),\n",
    "    'h2': tf.Variable(tf.random_normal([n_hidden1, n_hidden2], stddev=(1/n_hidden1))),\n",
    "    'out': tf.Variable(tf.random_normal([n_hidden2, n_classes], stddev=(1/n_hidden2)))\n",
    "}\n",
    "\n",
    "biases = {\n",
    "    'b1': tf.Variable(tf.random_normal([n_hidden1])),\n",
    "    'b2': tf.Variable(tf.random_normal([n_hidden2])),\n",
    "    'out': tf.Variable(tf.random_normal([n_classes]))\n",
    "}\n",
    "\n",
    "pred = neural_network(x, weights, biases, keep_prob)\n",
    "\n",
    "# Minimize error using cross entropy\n",
    "cost = tf.reduce_mean(tf.nn.softmax_cross_entropy_with_logits(logits=pred, labels=y))\n",
    "# Gradient Descent\n",
    "optimizer = tf.train.AdamOptimizer(learning_rate=learning_rate).minimize(cost)\n",
    "\n",
    "# Initializing the variables\n",
    "init = tf.global_variables_initializer()"
   ]
  },
  {
   "cell_type": "code",
   "execution_count": 240,
   "metadata": {
    "collapsed": false,
    "scrolled": true
   },
   "outputs": [
    {
     "name": "stdout",
     "output_type": "stream",
     "text": [
      "Epoch: 0010 cost= 0.691912844\n",
      "Epoch: 0020 cost= 0.546643688\n",
      "Epoch: 0030 cost= 0.399786202\n",
      "Optimization Finished!\n",
      "Accuracy: 1.0\n",
      "['Country' 'Hip-hop' 'Country' 'Country' 'Country' 'Country' 'Hip-hop'\n",
      " 'Hip-hop' 'Hip-hop' 'Hip-hop' 'Hip-hop' 'Country' 'Country' 'Country'\n",
      " 'Hip-hop' 'Country' 'Country' 'Country' 'Hip-hop' 'Hip-hop' 'Hip-hop'\n",
      " 'Hip-hop' 'Hip-hop' 'Country' 'Hip-hop' 'Hip-hop' 'Hip-hop' 'Hip-hop'\n",
      " 'Country' 'Country' 'Country' 'Country' 'Hip-hop' 'Hip-hop' 'Hip-hop'\n",
      " 'Country' 'Hip-hop' 'Hip-hop' 'Country' 'Country' 'Hip-hop' 'Country'\n",
      " 'Hip-hop' 'Hip-hop' 'Hip-hop' 'Country' 'Country' 'Hip-hop' 'Hip-hop'\n",
      " 'Hip-hop' 'Country' 'Hip-hop' 'Country' 'Country' 'Country' 'Country'\n",
      " 'Country' 'Hip-hop' 'Country' 'Country' 'Country' 'Hip-hop' 'Country'\n",
      " 'Country' 'Country' 'Country' 'Hip-hop' 'Country' 'Hip-hop' 'Country'\n",
      " 'Country' 'Hip-hop' 'Hip-hop' 'Country' 'Country' 'Country' 'Country'\n",
      " 'Country' 'Hip-hop' 'Hip-hop' 'Hip-hop' 'Hip-hop' 'Hip-hop' 'Country'\n",
      " 'Hip-hop' 'Hip-hop' 'Hip-hop' 'Hip-hop' 'Hip-hop' 'Country' 'Hip-hop'\n",
      " 'Country' 'Hip-hop' 'Hip-hop' 'Country' 'Country' 'Country' 'Country'\n",
      " 'Hip-hop' 'Hip-hop']\n",
      "Country Proportion: 0.500000\n"
     ]
    }
   ],
   "source": [
    "# Launch the graph\n",
    "with tf.Session() as sess:\n",
    "    sess.run(init)\n",
    "\n",
    "    # Training cycle\n",
    "    for epoch in range(training_epochs):\n",
    "        avg_cost = 0.\n",
    "        total_batch = int(len(train_pca_data) / batch_size)\n",
    "        # Loop over all batches\n",
    "        for i in range(total_batch):\n",
    "            batch_xs = train_pca_data[i * batch_size : min(len(train_pca_data), (i + 1) * batch_size)]\n",
    "            batch_ys = train_classes[i * batch_size : min(len(train_pca_data), (i + 1) * batch_size)]\n",
    "            # Fit training using batch data\n",
    "            _, c = sess.run([optimizer, cost], feed_dict={x: batch_xs,\n",
    "                                                          y: batch_ys,\n",
    "                                                          keep_prob: dropout})\n",
    "            # Compute average loss\n",
    "            avg_cost += c / total_batch\n",
    "        # Display logs per epoch step\n",
    "        if (epoch+1) % display_step == 0:\n",
    "            print(\"Epoch:\", '%04d' % (epoch+1), \"cost=\", \"{:.9f}\".format(avg_cost))\n",
    "\n",
    "    print(\"Optimization Finished!\")\n",
    "\n",
    "    # Test model\n",
    "    correct_prediction = tf.equal(tf.argmax(pred, 1), tf.argmax(y, 1))\n",
    "    accuracy = tf.reduce_mean(tf.cast(correct_prediction, tf.float32))\n",
    "    test_accuracy = accuracy.eval({x: test_pca_data, y: test_classes,  keep_prob: 1})\n",
    "    print(\"Accuracy:\", test_accuracy)\n",
    "    \n",
    "    holdout_predictions = tf.argmax(sess.run(pred, feed_dict={x: holdout_pca_data, keep_prob: 1}), 1).eval()\n",
    "    holdout_predictions = np.array([iDtoGenre(e) for e in holdout_predictions])\n",
    "    print(holdout_predictions)\n",
    "    \n",
    "    country = np.count_nonzero(holdout_predictions == 'Country') / len(holdout_predictions)\n",
    "    print(\"Country Proportion: %f\" % country)"
   ]
  },
  {
   "cell_type": "markdown",
   "metadata": {},
   "source": [
    "# Create Submission"
   ]
  },
  {
   "cell_type": "markdown",
   "metadata": {},
   "source": [
    "https://inclass.kaggle.com/c/hip-hop-or-country/"
   ]
  },
  {
   "cell_type": "code",
   "execution_count": 63,
   "metadata": {
    "collapsed": true
   },
   "outputs": [],
   "source": [
    "result_id = 1\n",
    "\n",
    "def create_competition_submission(predictions, filename='master.csv'):\n",
    "    \"\"\"\n",
    "    Create a submission CSV for the Kaggle competition.\n",
    "    \n",
    "    Inputs:\n",
    "      predictions - list or array of your predictions (Generated as in Question 3.3.1.)\n",
    "    \"\"\"\n",
    "    Table().with_columns('Id', np.arange(len(predictions)), 'Predictions', predictions).to_csv(filename)\n",
    "    print('Created', filename)"
   ]
  },
  {
   "cell_type": "code",
   "execution_count": 731,
   "metadata": {
    "collapsed": false
   },
   "outputs": [
    {
     "name": "stdout",
     "output_type": "stream",
     "text": [
      "Created tensorflow-100-1.csv\n"
     ]
    }
   ],
   "source": [
    "result_name = 'tensorflow-' + str(int(test_accuracy * 100)) + '-' + str(result_id) + '.csv'\n",
    "create_competition_submission(holdout_predictions, result_name)\n",
    "result_id += 1"
   ]
  },
  {
   "cell_type": "code",
   "execution_count": 69,
   "metadata": {
    "collapsed": false
   },
   "outputs": [],
   "source": [
    "current_1 = Table.read_table('tensorflow-96-1.csv')\n",
    "current_2 = Table.read_table('tensorflow-97-2.csv')"
   ]
  },
  {
   "cell_type": "code",
   "execution_count": 70,
   "metadata": {
    "collapsed": false
   },
   "outputs": [
    {
     "data": {
      "text/html": [
       "<table border=\"1\" class=\"dataframe\">\n",
       "    <thead>\n",
       "        <tr>\n",
       "            <th>ID</th> <th>96-1</th> <th>97-2</th>\n",
       "        </tr>\n",
       "    </thead>\n",
       "    <tbody>\n",
       "        <tr>\n",
       "            <td>0   </td> <td>Country</td> <td>Country</td>\n",
       "        </tr>\n",
       "    </tbody>\n",
       "        <tr>\n",
       "            <td>1   </td> <td>Hip-hop</td> <td>Hip-hop</td>\n",
       "        </tr>\n",
       "    </tbody>\n",
       "        <tr>\n",
       "            <td>2   </td> <td>Country</td> <td>Country</td>\n",
       "        </tr>\n",
       "    </tbody>\n",
       "        <tr>\n",
       "            <td>3   </td> <td>Country</td> <td>Country</td>\n",
       "        </tr>\n",
       "    </tbody>\n",
       "        <tr>\n",
       "            <td>4   </td> <td>Country</td> <td>Country</td>\n",
       "        </tr>\n",
       "    </tbody>\n",
       "        <tr>\n",
       "            <td>5   </td> <td>Country</td> <td>Country</td>\n",
       "        </tr>\n",
       "    </tbody>\n",
       "        <tr>\n",
       "            <td>6   </td> <td>Hip-hop</td> <td>Hip-hop</td>\n",
       "        </tr>\n",
       "    </tbody>\n",
       "        <tr>\n",
       "            <td>7   </td> <td>Hip-hop</td> <td>Hip-hop</td>\n",
       "        </tr>\n",
       "    </tbody>\n",
       "        <tr>\n",
       "            <td>8   </td> <td>Hip-hop</td> <td>Hip-hop</td>\n",
       "        </tr>\n",
       "    </tbody>\n",
       "        <tr>\n",
       "            <td>9   </td> <td>Hip-hop</td> <td>Hip-hop</td>\n",
       "        </tr>\n",
       "    </tbody>\n",
       "</table>\n",
       "<p>... (90 rows omitted)</p"
      ],
      "text/plain": [
       "ID   | 96-1    | 97-2\n",
       "0    | Country | Country\n",
       "1    | Hip-hop | Hip-hop\n",
       "2    | Country | Country\n",
       "3    | Country | Country\n",
       "4    | Country | Country\n",
       "5    | Country | Country\n",
       "6    | Hip-hop | Hip-hop\n",
       "7    | Hip-hop | Hip-hop\n",
       "8    | Hip-hop | Hip-hop\n",
       "9    | Hip-hop | Hip-hop\n",
       "... (90 rows omitted)"
      ]
     },
     "execution_count": 70,
     "metadata": {},
     "output_type": "execute_result"
    }
   ],
   "source": [
    "compare_table = Table().with_columns(\n",
    "    'ID', np.arange(0, 100),\n",
    "    '96-1', current_1.column('Predictions') ,\n",
    "    '97-2', current_2.column('Predictions') \n",
    ")\n",
    "\n",
    "compare_table"
   ]
  },
  {
   "cell_type": "code",
   "execution_count": 71,
   "metadata": {
    "collapsed": false
   },
   "outputs": [
    {
     "name": "stdout",
     "output_type": "stream",
     "text": [
      "96 Country Hip-hop\n"
     ]
    }
   ],
   "source": [
    "for i, (a, b) in enumerate(zip(current_1.column('Predictions'), current_2.column('Predictions'))):\n",
    "    if a != b:\n",
    "        print(i, a, b)"
   ]
  },
  {
   "cell_type": "code",
   "execution_count": 58,
   "metadata": {
    "collapsed": true
   },
   "outputs": [],
   "source": [
    "fixed1 = compare_table.column('96-1')\n",
    "fixed1[17] = 'Country'\n",
    "fixed1[96] = 'Country'"
   ]
  },
  {
   "cell_type": "code",
   "execution_count": 59,
   "metadata": {
    "collapsed": false
   },
   "outputs": [
    {
     "name": "stdout",
     "output_type": "stream",
     "text": [
      "17 Hip-hop Country\n"
     ]
    }
   ],
   "source": [
    "for i, (a, b) in enumerate(zip(current_1.column('Predictions'), fixed1)):\n",
    "    if a != b:\n",
    "        print(i, a, b)"
   ]
  },
  {
   "cell_type": "code",
   "execution_count": 60,
   "metadata": {
    "collapsed": true
   },
   "outputs": [],
   "source": [
    "fixed2 = current_2.column('Predictions')\n",
    "fixed2[17] = 'Hip-hop'\n",
    "fixed2[96] = 'Hip-hop'"
   ]
  },
  {
   "cell_type": "code",
   "execution_count": 61,
   "metadata": {
    "collapsed": false
   },
   "outputs": [
    {
     "name": "stdout",
     "output_type": "stream",
     "text": [
      "96 Country Hip-hop\n"
     ]
    }
   ],
   "source": [
    "for i, (a, b) in enumerate(zip(current_1.column('Predictions'), fixed2)):\n",
    "    if a != b:\n",
    "        print(i, a, b)"
   ]
  },
  {
   "cell_type": "code",
   "execution_count": 64,
   "metadata": {
    "collapsed": false
   },
   "outputs": [
    {
     "name": "stdout",
     "output_type": "stream",
     "text": [
      "Created tensorflow-97-1.csv\n",
      "Created tensorflow-97-2.csv\n"
     ]
    }
   ],
   "source": [
    "create_competition_submission(fixed1, 'tensorflow-97-1.csv')\n",
    "create_competition_submission(fixed2, 'tensorflow-97-2.csv')"
   ]
  },
  {
   "cell_type": "code",
   "execution_count": null,
   "metadata": {
    "collapsed": true
   },
   "outputs": [],
   "source": []
  }
 ],
 "metadata": {
  "anaconda-cloud": {},
  "kernelspec": {
   "display_name": "Python [conda root]",
   "language": "python",
   "name": "conda-root-py"
  },
  "language_info": {
   "codemirror_mode": {
    "name": "ipython",
    "version": 3
   },
   "file_extension": ".py",
   "mimetype": "text/x-python",
   "name": "python",
   "nbconvert_exporter": "python",
   "pygments_lexer": "ipython3",
   "version": "3.5.2"
  }
 },
 "nbformat": 4,
 "nbformat_minor": 0
}
